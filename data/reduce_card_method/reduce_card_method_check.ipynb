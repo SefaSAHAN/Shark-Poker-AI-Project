{
 "cells": [
  {
   "cell_type": "code",
   "execution_count": 5,
   "metadata": {},
   "outputs": [],
   "source": [
    "import itertools\n",
    "import csv\n",
    "import pandas as pd"
   ]
  },
  {
   "cell_type": "code",
   "execution_count": 2,
   "metadata": {},
   "outputs": [],
   "source": [
    "deck = ['AD', '2D', '3D', '4D', '5D', '6D', '7D', '8D', '9D', '10D', 'JD', 'QD', 'KD', \n",
    "\t  \t'AC', '2C', '3C', '4C', '5C', '6C', '7C', '8C', '9C', '10C', 'JC', 'QC', 'KC',    \n",
    "\t\t'AH', '2H', '3H', '4H', '5H', '6H', '7H', '8H', '9H', '10H', 'JH', 'QH', 'KH',      \n",
    "\t\t'AS', '2S', '3S', '4S', '5S', '6S', '7S', '8S', '9S', '10S', 'JS', 'QS', 'KS']\n",
    "\n",
    "board_combinations = list(itertools.combinations(deck, 3))\n",
    "bot_combinations= list(itertools.combinations(deck, 2))"
   ]
  },
  {
   "cell_type": "code",
   "execution_count": 18,
   "metadata": {},
   "outputs": [],
   "source": [
    "import csv\n",
    "\n",
    "file_names = [\"4double.csv\", \"3double.csv\", \"03result.csv\", \"5result.csv\", \"31result.csv\", \"41result.csv\", \"32result.csv\", \"42result.csv\", \"normal1.csv\", \"normal2.csv\"]\n",
    "\n",
    "# Define a dictionary to map file names to the appropriate list\n",
    "file_map = {}\n",
    "\n",
    "# Loop over the file names and add the data to the appropriate list\n",
    "for filename in file_names:\n",
    "    # Open the CSV file\n",
    "    with open(filename, newline='') as csvfile:\n",
    "        # Create a CSV reader\n",
    "        reader = csv.reader(csvfile)\n",
    "        # Initialize the list for this file\n",
    "        data = []\n",
    "        # Iterate over the rows in the CSV file and add them to the list\n",
    "        for row in reader:\n",
    "            # Combine the first two columns into a single tuple\n",
    "            first_two = (row[0], row[1])\n",
    "            # Add the tuple to the list\n",
    "            data.append(first_two)\n",
    "        # Add the list to the dictionary\n",
    "        file_map[filename[:-4]] = data\n",
    "\n"
   ]
  },
  {
   "cell_type": "code",
   "execution_count": 3,
   "metadata": {},
   "outputs": [],
   "source": [
    "\n",
    "def sort_cards(cards):\n",
    "    values = ['A','2', '3', '4', '5', '6', '7', '8', '9', '10', 'J', 'Q', 'K']\n",
    "    sorted_cards = sorted(cards, key=lambda c: values.index(c))\n",
    "    return tuple(sorted_cards)"
   ]
  },
  {
   "cell_type": "code",
   "execution_count": 26,
   "metadata": {},
   "outputs": [
    {
     "name": "stdout",
     "output_type": "stream",
     "text": [
      "0\n"
     ]
    }
   ],
   "source": [
    "#run this code to see reduce method works fine it take 3 hours\n",
    "\n",
    "absent_combinations=[]\n",
    "for bot_hand in bot_combinations:\n",
    "\tfor combination in board_combinations:\n",
    "\t\tif bot_hand[0] in combination or bot_hand[1] in combination:\n",
    "\t\t\tcontinue\n",
    "\t\t\n",
    "\t\tmy_tuple=(bot_hand[0],bot_hand[1],combination[0],combination[1],combination[2])\n",
    "\t\tmy_tuple2=  (\tbot_hand[0][-1],\n",
    "\t\t\t\t\t\tbot_hand[1][-1],\n",
    "\t\t\t\t\t\tcombination[0][-1],\n",
    "\t\t\t\t\t\tcombination[1][-1],\n",
    "\t\t\t\t\t\tcombination[2][-1],\n",
    "\t\t\t\t\t\t)\n",
    "\t\tresult3 = [element for element in my_tuple2 if my_tuple2.count(element) == 3]\n",
    "\t\tresult4 = [element for element in my_tuple2 if my_tuple2.count(element) == 4]\n",
    "\t\tresult5 = [element for element in my_tuple2 if my_tuple2.count(element) == 5]\n",
    "\n",
    "\t\ttuple1=(bot_hand[0][:-1],bot_hand[1][:-1])\n",
    "\t\tsorted_tuple=sort_cards(tuple1)\n",
    "\t\ttuple2=(combination[0][:-1],combination[1][:-1],combination[2][:-1])\n",
    "\t\tsorted_tuple2=sort_cards(tuple2)\n",
    "\t\tcontrol_tuple=(str(sorted_tuple[0]+sorted_tuple[1]),str(sorted_tuple2[0]+sorted_tuple2[1]+sorted_tuple2[2]))\n",
    "\t\t       \n",
    "\t\tif len(result3)>0:\n",
    "\t\t\t\n",
    "\t\t\tif my_tuple2[0]==result3[0] and my_tuple2[1]==result3[0]:\n",
    "\t\t\t\tif control_tuple not in file_map['3double']:\n",
    "\t\t\t\t\tabsent_combinations.append(my_tuple)\n",
    "\t\t\telif my_tuple2[0]==result3[0]:\n",
    "\t\t\t\tif control_tuple not in file_map['31result']:\n",
    "\t\t\t\t\tabsent_combinations.append(my_tuple)\n",
    "\t\t\telif my_tuple2[1]==result3[0]:\n",
    "\t\t\t\tif my_tuple[0][:-1]==my_tuple[0][:-1]:\n",
    "\t\t\t\t\tif control_tuple not in file_map['31result']:\n",
    "\t\t\t\t\t\tabsent_combinations.append(my_tuple)\n",
    "\t\t\t\telse:\n",
    "\t\t\t\t\tif control_tuple not in file_map['32result']:\n",
    "\t\t\t\t\t\tabsent_combinations.append(my_tuple)\n",
    "\t\t\telse:\n",
    "\t\t\t\tif control_tuple not in file_map['03result']:\n",
    "\t\t\t\t\tabsent_combinations.append(my_tuple)\n",
    "\t\t              \n",
    "\t\telif len(result4)>0:\n",
    "\t\t\t\n",
    "\t\t\tif my_tuple2[0]==result4[0] and my_tuple2[1]==result4[0]:\n",
    "\t\t\t\tif control_tuple not in file_map['4double']:\n",
    "\t\t\t\t\tabsent_combinations.append(my_tuple)\n",
    "\t\t\telif my_tuple2[0]==result4[0]:\n",
    "\t\t\t\tif control_tuple not in file_map['41result']:\n",
    "\t\t\t\t\tabsent_combinations.append(my_tuple)\n",
    "\t\t\telse:\n",
    "\t\t\t\tif my_tuple[0][:-1]==my_tuple[0][:-1]:\n",
    "\t\t\t\t\tif control_tuple not in file_map['41result']:\n",
    "\t\t\t\t\t\tabsent_combinations.append(my_tuple)\n",
    "\t\t\t\telse:\n",
    "\t\t\t\t\tif control_tuple not in file_map['42result']:\n",
    "\t\t\t\t\t\tabsent_combinations.append(my_tuple)\n",
    "\t\t\n",
    "\t\telif len(result5)>0:\n",
    "\t\t\t\n",
    "\t\t\tif control_tuple not in file_map['5result']:\n",
    "\t\t\t\tabsent_combinations.append(my_tuple)\n",
    "\t\t\t\n",
    "\t\telse:\n",
    "\t\t\tresult = [element for element in my_tuple2[2:] if my_tuple2[2:].count(element) == 2]\n",
    "\t\t\tif len(result)>0:\n",
    "\t\t\t\tif control_tuple not in file_map['normal2']:\n",
    "\t\t\t\t\tabsent_combinations.append(my_tuple)\n",
    "\t\t\telse:\n",
    "\t\t\t\tif control_tuple not in file_map['normal1']:\n",
    "\t\t\t\t\tabsent_combinations.append(my_tuple)\n",
    "\t\n",
    "print(len(absent_combinations))"
   ]
  }
 ],
 "metadata": {
  "kernelspec": {
   "display_name": "Python 3",
   "language": "python",
   "name": "python3"
  },
  "language_info": {
   "codemirror_mode": {
    "name": "ipython",
    "version": 3
   },
   "file_extension": ".py",
   "mimetype": "text/x-python",
   "name": "python",
   "nbconvert_exporter": "python",
   "pygments_lexer": "ipython3",
   "version": "3.10.6"
  },
  "orig_nbformat": 4,
  "vscode": {
   "interpreter": {
    "hash": "afb734500600fd355917ca529030176ea0ca205570884b88f2f6f7d791fd3fbe"
   }
  }
 },
 "nbformat": 4,
 "nbformat_minor": 2
}
