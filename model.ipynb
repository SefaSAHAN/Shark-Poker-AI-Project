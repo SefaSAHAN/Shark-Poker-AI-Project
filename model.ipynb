{
 "cells": [
  {
   "cell_type": "code",
   "execution_count": 1,
   "metadata": {},
   "outputs": [],
   "source": [
    "import pandas as pd\n",
    "import numpy as np\n",
    "import warnings\n",
    "from sklearn.tree import DecisionTreeClassifier\n",
    "from sklearn.ensemble import RandomForestClassifier\n",
    "from sklearn.model_selection import train_test_split\n",
    "from sklearn.metrics import accuracy_score\n",
    "\n"
   ]
  },
  {
   "cell_type": "code",
   "execution_count": 2,
   "metadata": {},
   "outputs": [
    {
     "name": "stdout",
     "output_type": "stream",
     "text": [
      "Accuracy: 0.7869166666666667\n"
     ]
    }
   ],
   "source": [
    "# Suppress the warning message\n",
    "warnings.filterwarnings(\"ignore\", message=\"X does not have valid feature names\")\n",
    "\n",
    "# Load the dataset\n",
    "df = pd.read_csv(\"data/check.csv\")\n",
    "\n",
    "# Extract the features and target variable\n",
    "X = df[['win_rate']]\n",
    "y = df['bot_decision']\n",
    "\n",
    "# Split the data into training and testing sets\n",
    "X_train, X_test, y_train, y_test = train_test_split(X, y, test_size=0.3, random_state=42)\n",
    "\n",
    "# Create a decision tree classifier\n",
    "model_DT = DecisionTreeClassifier()\n",
    "\n",
    "# Fit the classifier to the training data\n",
    "model_DT.fit(X_train, y_train)\n",
    "\n",
    "# Predict the target variable on the testing data\n",
    "y_pred = model_DT.predict(X_test)\n",
    "\n",
    "# Calculate the accuracy of the model\n",
    "accuracy = accuracy_score(y_test, y_pred)\n",
    "print(\"Accuracy:\", accuracy)"
   ]
  },
  {
   "cell_type": "code",
   "execution_count": 3,
   "metadata": {},
   "outputs": [
    {
     "name": "stdout",
     "output_type": "stream",
     "text": [
      "Accuracy: 0.7870833333333334\n"
     ]
    }
   ],
   "source": [
    "\n",
    "\n",
    "# Load the dataset\n",
    "df = pd.read_csv(\"data/check.csv\")\n",
    "\n",
    "# Extract the features and target variable\n",
    "X = df[['win_rate']]\n",
    "y = df['bot_decision']\n",
    "\n",
    "# Split the data into training and testing sets\n",
    "X_train, X_test, y_train, y_test = train_test_split(X, y, test_size=0.3, random_state=42)\n",
    "\n",
    "# Create a random forest classifier with 100 trees\n",
    "model_RF = RandomForestClassifier(n_estimators=100)\n",
    "\n",
    "# Fit the classifier to the training data\n",
    "model_RF.fit(X_train, y_train)\n",
    "\n",
    "# Predict the target variable on the testing data\n",
    "y_pred = model_RF.predict(X_test)\n",
    "\n",
    "# Calculate the accuracy of the model\n",
    "accuracy = accuracy_score(y_test, y_pred)\n",
    "print(\"Accuracy:\", accuracy)\n"
   ]
  },
  {
   "cell_type": "code",
   "execution_count": 4,
   "metadata": {},
   "outputs": [
    {
     "name": "stdout",
     "output_type": "stream",
     "text": [
      "[0.06285829 0.12811724 0.22183655 0.24437166 0.24545332 0.24694864\n",
      " 0.25228566 0.28918263 0.40883215 0.41514769 0.46576561 0.47273628\n",
      " 0.53905681 0.59853303 0.61271249 0.6132667  0.6175442  0.63350294\n",
      " 0.63863236 0.64239915 0.67822438 0.70803895 0.74680806 0.76927958\n",
      " 0.83075194 0.83431384 0.88163482 0.89904731 0.91493294 0.99410676]\n",
      "[0 0 0 0 0 0 0 0 0 0 0 0 0 0 0 0 1 0 0 1 0 1 1 1 1 1 0 1 0 0]\n",
      "[0 0 0 0 0 0 0 0 0 0 0 0 0 0 0 0 1 0 0 1 0 1 1 1 1 1 0 1 0 0]\n"
     ]
    }
   ],
   "source": [
    "# Create a 1D NumPy array with 10 random float values between 0 and 1\n",
    "random_floats = np.random.rand(30)\n",
    "\n",
    "# Sort the array in ascending order\n",
    "sorted_floats = np.sort(random_floats)\n",
    "\n",
    "# Reshape the sorted array into a 2D array with one column\n",
    "new_data = sorted_floats.reshape(-1, 1)\n",
    "\n",
    "# Make predictions on the new data using the trained model\n",
    "predictions_DT = model_DT.predict(new_data)\n",
    "\n",
    "# Make predictions on the new data using the trained model\n",
    "predictions_RF = model_RF.predict(new_data)\n",
    "\n",
    "print(sorted_floats)\n",
    "print(predictions_DT)\n",
    "print(predictions_RF)"
   ]
  },
  {
   "cell_type": "code",
   "execution_count": 5,
   "metadata": {},
   "outputs": [
    {
     "name": "stdout",
     "output_type": "stream",
     "text": [
      "Accuracy: 0.79485\n"
     ]
    }
   ],
   "source": [
    "# Load the data from the CSV file\n",
    "df = pd.read_csv(\"data/raise.csv\")\n",
    "\n",
    "# Split the data into training and test sets\n",
    "X = df[['win_rate', 'pot', 'player_raise_amount']]\n",
    "y = df['bot_decision']\n",
    "X_train, X_test, y_train, y_test = train_test_split(X, y, test_size=0.2, random_state=42)\n",
    "\n",
    "# Create a random forest classifier object\n",
    "model_raise = RandomForestClassifier()\n",
    "\n",
    "# Fit the classifier to the training data\n",
    "model_raise.fit(X_train, y_train)\n",
    "\n",
    "# Make predictions on the test data\n",
    "y_pred = model_raise.predict(X_test)\n",
    "\n",
    "# Calculate the accuracy of the classifier\n",
    "accuracy = accuracy_score(y_test, y_pred)\n",
    "\n",
    "# Print the accuracy\n",
    "print(\"Accuracy:\", accuracy)\n"
   ]
  },
  {
   "cell_type": "code",
   "execution_count": 6,
   "metadata": {},
   "outputs": [
    {
     "name": "stdout",
     "output_type": "stream",
     "text": [
      "    win_rate    pot  player_raise_amount\n",
      "0   0.060626  36897                   58\n",
      "1   0.129060  21871                   69\n",
      "2   0.194287  39232                  224\n",
      "3   0.221680  17744                  290\n",
      "4   0.247899  22909                   70\n",
      "5   0.330500  13736                   14\n",
      "6   0.338355  29825                  223\n",
      "7   0.357446  28927                  162\n",
      "8   0.366726  14669                  245\n",
      "9   0.389006  38902                  127\n",
      "10  0.429383  29753                  236\n",
      "11  0.483848  29935                  184\n",
      "12  0.507532  19165                  199\n",
      "13  0.564248  31718                   36\n",
      "14  0.685571  31040                   25\n",
      "15  0.710462   1440                  140\n",
      "16  0.723647  33941                  292\n",
      "17  0.769463    426                   36\n",
      "18  0.792606  15944                   55\n",
      "19  0.996275   5793                   71\n",
      "[1 1 1 0 1 1 0 1 0 1 1 1 1 1 1 1 1 1 2 2]\n"
     ]
    }
   ],
   "source": [
    "# Create a 1D NumPy array with 10 random float values between 0 and 1\n",
    "random_floats = np.random.rand(20)\n",
    "\n",
    "# Sort the array in ascending order\n",
    "sorted_floats = np.sort(random_floats)\n",
    "\n",
    "# Create a numpy array with 20 random integers between 0 and 40000\n",
    "arr = np.random.randint(low=0, high=40001, size=20)\n",
    "\n",
    "arr2=np.random.randint(low=0, high=301, size=20)\n",
    "\n",
    "# Create a Pandas DataFrame with three columns\n",
    "df = pd.DataFrame({'win_rate': sorted_floats, 'pot': arr, 'player_raise_amount': arr2})\n",
    "\n",
    "# Print the DataFrame\n",
    "print(df)\n",
    "# Make predictions on the new data using the trained model\n",
    "predictions_raise = model_raise.predict(df)\n",
    "\n",
    "print(predictions_raise)\n"
   ]
  },
  {
   "cell_type": "code",
   "execution_count": 7,
   "metadata": {},
   "outputs": [
    {
     "name": "stdout",
     "output_type": "stream",
     "text": [
      "Accuracy: 0.32451853981029033\n"
     ]
    }
   ],
   "source": [
    "import pandas as pd\n",
    "\n",
    "from sklearn.model_selection import train_test_split\n",
    "from sklearn.metrics import accuracy_score\n",
    "\n",
    "# Load the dataset\n",
    "df = pd.read_csv(\"data/raise_amount.csv\")\n",
    "\n",
    "# Extract the features and target variable\n",
    "X = df[['win_rate']]\n",
    "y = df['bot_decision']\n",
    "\n",
    "# Split the data into training and testing sets\n",
    "X_train, X_test, y_train, y_test = train_test_split(X, y, test_size=0.3, random_state=42)\n",
    "\n",
    "# Create a random forest classifier with 100 trees\n",
    "model_amount = RandomForestClassifier()\n",
    "\n",
    "# Fit the classifier to the training data\n",
    "model_amount.fit(X_train, y_train)\n",
    "\n",
    "# Predict the target variable on the testing data\n",
    "y_pred = model_amount.predict(X_test)\n",
    "\n",
    "# Calculate the accuracy of the model\n",
    "accuracy = accuracy_score(y_test, y_pred)\n",
    "print(\"Accuracy:\", accuracy)\n"
   ]
  },
  {
   "cell_type": "code",
   "execution_count": 8,
   "metadata": {},
   "outputs": [
    {
     "name": "stdout",
     "output_type": "stream",
     "text": [
      "[9.32447542e-04 1.28740542e-01 1.59120375e-01 2.12573714e-01\n",
      " 2.27107546e-01 3.11192321e-01 3.19156126e-01 3.35837292e-01\n",
      " 3.61256710e-01 3.86830458e-01 4.09297748e-01 4.59498358e-01\n",
      " 4.78867624e-01 5.68037629e-01 5.86089063e-01 6.22608010e-01\n",
      " 6.34610562e-01 6.47643472e-01 6.87417225e-01 6.96019470e-01\n",
      " 7.71405520e-01 7.92648133e-01 8.05072008e-01 8.88580695e-01\n",
      " 9.00494338e-01 9.08051940e-01 9.17851230e-01 9.26742179e-01\n",
      " 9.28379788e-01 9.50775291e-01]\n"
     ]
    },
    {
     "data": {
      "text/plain": [
       "array([3, 0, 0, 0, 0, 0, 0, 3, 0, 0, 1, 0, 2, 0, 0, 0, 2, 1, 0, 0, 1, 3,\n",
       "       3, 1, 1, 1, 0, 1, 2, 2], dtype=int64)"
      ]
     },
     "execution_count": 8,
     "metadata": {},
     "output_type": "execute_result"
    }
   ],
   "source": [
    "# Create a 1D NumPy array with 10 random float values between 0 and 1\n",
    "random_floats = np.random.rand(30)\n",
    "\n",
    "# Sort the array in ascending order\n",
    "sorted_floats = np.sort(random_floats)\n",
    "\n",
    "# Reshape the sorted array into a 2D array with one column\n",
    "new_data = sorted_floats.reshape(-1, 1)\n",
    "\n",
    "# Make predictions on the new data using the trained model\n",
    "predictions_amount = model_amount.predict(new_data)\n",
    "\n",
    "\n",
    "print(sorted_floats)\n",
    "predictions_amount"
   ]
  }
 ],
 "metadata": {
  "kernelspec": {
   "display_name": "Python 3",
   "language": "python",
   "name": "python3"
  },
  "language_info": {
   "codemirror_mode": {
    "name": "ipython",
    "version": 3
   },
   "file_extension": ".py",
   "mimetype": "text/x-python",
   "name": "python",
   "nbconvert_exporter": "python",
   "pygments_lexer": "ipython3",
   "version": "3.10.6"
  },
  "orig_nbformat": 4
 },
 "nbformat": 4,
 "nbformat_minor": 2
}
