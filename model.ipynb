{
 "cells": [
  {
   "cell_type": "code",
   "execution_count": 2,
   "metadata": {},
   "outputs": [
    {
     "name": "stdout",
     "output_type": "stream",
     "text": [
      "Accuracy: 0.7869166666666667\n"
     ]
    }
   ],
   "source": [
    "import pandas as pd\n",
    "import numpy as np\n",
    "import warnings\n",
    "from sklearn.tree import DecisionTreeClassifier\n",
    "from sklearn.ensemble import RandomForestClassifier\n",
    "from sklearn.model_selection import train_test_split\n",
    "from sklearn.metrics import accuracy_score\n",
    "\n"
   ]
  },
  {
   "cell_type": "code",
   "execution_count": null,
   "metadata": {},
   "outputs": [],
   "source": [
    "# Suppress the warning message\n",
    "warnings.filterwarnings(\"ignore\", message=\"X does not have valid feature names\")\n",
    "\n",
    "# Load the dataset\n",
    "df = pd.read_csv(\"data/check.csv\")\n",
    "\n",
    "# Extract the features and target variable\n",
    "X = df[['win_rate']]\n",
    "y = df['bot_decision']\n",
    "\n",
    "# Split the data into training and testing sets\n",
    "X_train, X_test, y_train, y_test = train_test_split(X, y, test_size=0.3, random_state=42)\n",
    "\n",
    "# Create a decision tree classifier\n",
    "model_DT = DecisionTreeClassifier()\n",
    "\n",
    "# Fit the classifier to the training data\n",
    "model_DT.fit(X_train, y_train)\n",
    "\n",
    "# Predict the target variable on the testing data\n",
    "y_pred = model_DT.predict(X_test)\n",
    "\n",
    "# Calculate the accuracy of the model\n",
    "accuracy = accuracy_score(y_test, y_pred)\n",
    "print(\"Accuracy:\", accuracy)"
   ]
  },
  {
   "cell_type": "code",
   "execution_count": 10,
   "metadata": {},
   "outputs": [
    {
     "name": "stdout",
     "output_type": "stream",
     "text": [
      "Accuracy: 0.78725\n"
     ]
    }
   ],
   "source": [
    "\n",
    "\n",
    "# Load the dataset\n",
    "df = pd.read_csv(\"data/check.csv\")\n",
    "\n",
    "# Extract the features and target variable\n",
    "X = df[['win_rate']]\n",
    "y = df['bot_decision']\n",
    "\n",
    "# Split the data into training and testing sets\n",
    "X_train, X_test, y_train, y_test = train_test_split(X, y, test_size=0.3, random_state=42)\n",
    "\n",
    "# Create a random forest classifier with 100 trees\n",
    "model_RF = RandomForestClassifier(n_estimators=100)\n",
    "\n",
    "# Fit the classifier to the training data\n",
    "model_RF.fit(X_train, y_train)\n",
    "\n",
    "# Predict the target variable on the testing data\n",
    "y_pred = model_RF.predict(X_test)\n",
    "\n",
    "# Calculate the accuracy of the model\n",
    "accuracy = accuracy_score(y_test, y_pred)\n",
    "print(\"Accuracy:\", accuracy)\n"
   ]
  },
  {
   "cell_type": "code",
   "execution_count": 3,
   "metadata": {},
   "outputs": [
    {
     "ename": "NameError",
     "evalue": "name 'model_RF' is not defined",
     "output_type": "error",
     "traceback": [
      "\u001b[1;31m---------------------------------------------------------------------------\u001b[0m",
      "\u001b[1;31mNameError\u001b[0m                                 Traceback (most recent call last)",
      "\u001b[1;32mc:\\Users\\User\\Desktop\\poker_ai\\main\\model.ipynb Cell 4\u001b[0m in \u001b[0;36m1\n\u001b[0;32m     <a href='vscode-notebook-cell:/c%3A/Users/User/Desktop/poker_ai/main/model.ipynb#W2sZmlsZQ%3D%3D?line=10'>11</a>\u001b[0m predictions_DT \u001b[39m=\u001b[39m model_DT\u001b[39m.\u001b[39mpredict(new_data)\n\u001b[0;32m     <a href='vscode-notebook-cell:/c%3A/Users/User/Desktop/poker_ai/main/model.ipynb#W2sZmlsZQ%3D%3D?line=12'>13</a>\u001b[0m \u001b[39m# Make predictions on the new data using the trained model\u001b[39;00m\n\u001b[1;32m---> <a href='vscode-notebook-cell:/c%3A/Users/User/Desktop/poker_ai/main/model.ipynb#W2sZmlsZQ%3D%3D?line=13'>14</a>\u001b[0m predictions_RF \u001b[39m=\u001b[39m model_RF\u001b[39m.\u001b[39mpredict(new_data)\n\u001b[0;32m     <a href='vscode-notebook-cell:/c%3A/Users/User/Desktop/poker_ai/main/model.ipynb#W2sZmlsZQ%3D%3D?line=15'>16</a>\u001b[0m \u001b[39mprint\u001b[39m(sorted_floats)\n\u001b[0;32m     <a href='vscode-notebook-cell:/c%3A/Users/User/Desktop/poker_ai/main/model.ipynb#W2sZmlsZQ%3D%3D?line=16'>17</a>\u001b[0m \u001b[39mprint\u001b[39m(predictions_DT)\n",
      "\u001b[1;31mNameError\u001b[0m: name 'model_RF' is not defined"
     ]
    }
   ],
   "source": [
    "# Create a 1D NumPy array with 10 random float values between 0 and 1\n",
    "random_floats = np.random.rand(30)\n",
    "\n",
    "# Sort the array in ascending order\n",
    "sorted_floats = np.sort(random_floats)\n",
    "\n",
    "# Reshape the sorted array into a 2D array with one column\n",
    "new_data = sorted_floats.reshape(-1, 1)\n",
    "\n",
    "# Make predictions on the new data using the trained model\n",
    "predictions_DT = model_DT.predict(new_data)\n",
    "\n",
    "# Make predictions on the new data using the trained model\n",
    "predictions_RF = model_RF.predict(new_data)\n",
    "\n",
    "print(sorted_floats)\n",
    "print(predictions_DT)\n",
    "print(predictions_RF)"
   ]
  },
  {
   "cell_type": "code",
   "execution_count": 4,
   "metadata": {},
   "outputs": [
    {
     "name": "stdout",
     "output_type": "stream",
     "text": [
      "Accuracy: 0.7953\n"
     ]
    }
   ],
   "source": [
    "# Load the data from the CSV file\n",
    "df = pd.read_csv(\"data/raise.csv\")\n",
    "\n",
    "# Split the data into training and test sets\n",
    "X = df[['win_rate', 'pot', 'player_raise_amount']]\n",
    "y = df['bot_decision']\n",
    "X_train, X_test, y_train, y_test = train_test_split(X, y, test_size=0.2, random_state=42)\n",
    "\n",
    "# Create a random forest classifier object\n",
    "model_raise = RandomForestClassifier()\n",
    "\n",
    "# Fit the classifier to the training data\n",
    "model_raise.fit(X_train, y_train)\n",
    "\n",
    "# Make predictions on the test data\n",
    "y_pred = model_raise.predict(X_test)\n",
    "\n",
    "# Calculate the accuracy of the classifier\n",
    "accuracy = accuracy_score(y_test, y_pred)\n",
    "\n",
    "# Print the accuracy\n",
    "print(\"Accuracy:\", accuracy)\n"
   ]
  },
  {
   "cell_type": "code",
   "execution_count": 7,
   "metadata": {},
   "outputs": [
    {
     "name": "stdout",
     "output_type": "stream",
     "text": [
      "    win_rate    pot  player_raise_amount\n",
      "0   0.036690  10019                  265\n",
      "1   0.037921   4063                  137\n",
      "2   0.048386  39977                    5\n",
      "3   0.076438  34949                  294\n",
      "4   0.086102  26882                   11\n",
      "5   0.087548  38490                  138\n",
      "6   0.095824  39654                  269\n",
      "7   0.192543  15395                  127\n",
      "8   0.201627  23400                    5\n",
      "9   0.274939  11923                  291\n",
      "10  0.315415  17870                  260\n",
      "11  0.390529    348                  251\n",
      "12  0.400325  18480                  180\n",
      "13  0.501785    878                  270\n",
      "14  0.508929  32944                  203\n",
      "15  0.559735  38395                  289\n",
      "16  0.786202  37216                  222\n",
      "17  0.787883  37065                   45\n",
      "18  0.922491  11619                  287\n",
      "19  0.925069  22731                  113\n",
      "[1 1 1 1 1 1 1 1 1 0 1 0 1 1 1 1 1 1 2 1]\n"
     ]
    }
   ],
   "source": [
    "# Create a 1D NumPy array with 10 random float values between 0 and 1\n",
    "random_floats = np.random.rand(20)\n",
    "\n",
    "# Sort the array in ascending order\n",
    "sorted_floats = np.sort(random_floats)\n",
    "\n",
    "# Create a numpy array with 20 random integers between 0 and 40000\n",
    "arr = np.random.randint(low=0, high=40001, size=20)\n",
    "\n",
    "arr2=np.random.randint(low=0, high=301, size=20)\n",
    "\n",
    "# Create a Pandas DataFrame with three columns\n",
    "df = pd.DataFrame({'win_rate': sorted_floats, 'pot': arr, 'player_raise_amount': arr2})\n",
    "\n",
    "# Print the DataFrame\n",
    "print(df)\n",
    "# Make predictions on the new data using the trained model\n",
    "predictions_raise = model_raise.predict(df)\n",
    "\n",
    "print(predictions_raise)\n"
   ]
  },
  {
   "cell_type": "code",
   "execution_count": 65,
   "metadata": {},
   "outputs": [
    {
     "name": "stdout",
     "output_type": "stream",
     "text": [
      "Accuracy: 0.32451853981029033\n"
     ]
    }
   ],
   "source": [
    "import pandas as pd\n",
    "\n",
    "from sklearn.model_selection import train_test_split\n",
    "from sklearn.metrics import accuracy_score\n",
    "\n",
    "# Load the dataset\n",
    "df = pd.read_csv(\"data/raise_amount.csv\")\n",
    "\n",
    "# Extract the features and target variable\n",
    "X = df[['win_rate']]\n",
    "y = df['bot_decision']\n",
    "\n",
    "# Split the data into training and testing sets\n",
    "X_train, X_test, y_train, y_test = train_test_split(X, y, test_size=0.3, random_state=42)\n",
    "\n",
    "# Create a random forest classifier with 100 trees\n",
    "model_amount = RandomForestClassifier()\n",
    "\n",
    "# Fit the classifier to the training data\n",
    "model_amount.fit(X_train, y_train)\n",
    "\n",
    "# Predict the target variable on the testing data\n",
    "y_pred = model_amount.predict(X_test)\n",
    "\n",
    "# Calculate the accuracy of the model\n",
    "accuracy = accuracy_score(y_test, y_pred)\n",
    "print(\"Accuracy:\", accuracy)\n"
   ]
  },
  {
   "cell_type": "code",
   "execution_count": 66,
   "metadata": {},
   "outputs": [
    {
     "name": "stdout",
     "output_type": "stream",
     "text": [
      "[0.10363565 0.13531691 0.15190547 0.15466125 0.1594355  0.21432371\n",
      " 0.21732579 0.22055226 0.24372943 0.28979744 0.29789362 0.32802954\n",
      " 0.34097494 0.37065908 0.38042331 0.39625385 0.41405579 0.45468132\n",
      " 0.52489206 0.54169622 0.54960875 0.58683259 0.62431123 0.65607306\n",
      " 0.72128181 0.83055711 0.88238613 0.91986313 0.93856432 0.943827  ]\n"
     ]
    },
    {
     "data": {
      "text/plain": [
       "array([0, 0, 0, 0, 0, 0, 0, 0, 0, 0, 0, 0, 0, 0, 0, 3, 0, 3, 0, 0, 0, 0,\n",
       "       0, 0, 1, 0, 2, 3, 2, 1], dtype=int64)"
      ]
     },
     "execution_count": 66,
     "metadata": {},
     "output_type": "execute_result"
    }
   ],
   "source": [
    "# Create a 1D NumPy array with 10 random float values between 0 and 1\n",
    "random_floats = np.random.rand(30)\n",
    "\n",
    "# Sort the array in ascending order\n",
    "sorted_floats = np.sort(random_floats)\n",
    "\n",
    "# Reshape the sorted array into a 2D array with one column\n",
    "new_data = sorted_floats.reshape(-1, 1)\n",
    "\n",
    "# Make predictions on the new data using the trained model\n",
    "predictions_amount = model_amount.predict(new_data)\n",
    "\n",
    "\n",
    "print(sorted_floats)\n",
    "predictions_amount"
   ]
  }
 ],
 "metadata": {
  "kernelspec": {
   "display_name": "Python 3",
   "language": "python",
   "name": "python3"
  },
  "language_info": {
   "codemirror_mode": {
    "name": "ipython",
    "version": 3
   },
   "file_extension": ".py",
   "mimetype": "text/x-python",
   "name": "python",
   "nbconvert_exporter": "python",
   "pygments_lexer": "ipython3",
   "version": "3.10.6"
  },
  "orig_nbformat": 4
 },
 "nbformat": 4,
 "nbformat_minor": 2
}
